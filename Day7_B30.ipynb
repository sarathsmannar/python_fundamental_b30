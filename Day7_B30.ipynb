{
 "cells": [
  {
   "cell_type": "code",
   "execution_count": null,
   "metadata": {},
   "outputs": [],
   "source": [
    "#slicing of list "
   ]
  },
  {
   "cell_type": "code",
   "execution_count": null,
   "metadata": {},
   "outputs": [],
   "source": [
    "#for loop"
   ]
  },
  {
   "cell_type": "code",
   "execution_count": 2,
   "metadata": {},
   "outputs": [],
   "source": [
    "students=['sarath','ayan','raj','suresh','renjith']"
   ]
  },
  {
   "cell_type": "code",
   "execution_count": 4,
   "metadata": {},
   "outputs": [
    {
     "name": "stdout",
     "output_type": "stream",
     "text": [
      "['sarath', 'ayan', 'raj', 'suresh', 'renjith']\n"
     ]
    }
   ],
   "source": [
    "print(students)"
   ]
  },
  {
   "cell_type": "code",
   "execution_count": null,
   "metadata": {},
   "outputs": [],
   "source": [
    "#for loop syntax:\n",
    "\n",
    "for tempvar in mainvar:\n",
    "  print(tempvar)"
   ]
  },
  {
   "cell_type": "code",
   "execution_count": 8,
   "metadata": {},
   "outputs": [
    {
     "name": "stdout",
     "output_type": "stream",
     "text": [
      "sarath\n",
      "ayan\n",
      "raj\n",
      "suresh\n",
      "renjith\n"
     ]
    }
   ],
   "source": [
    "for a in students:\n",
    " print(a)"
   ]
  },
  {
   "cell_type": "code",
   "execution_count": 12,
   "metadata": {},
   "outputs": [
    {
     "name": "stdout",
     "output_type": "stream",
     "text": [
      "Keep up good work: sarath\n",
      "Keep up good work: ayan\n",
      "Keep up good work: raj\n",
      "Keep up good work: suresh\n",
      "Keep up good work: renjith\n"
     ]
    }
   ],
   "source": [
    "for a in students:\n",
    "  print(f\"Keep up good work: {a}\")"
   ]
  },
  {
   "cell_type": "code",
   "execution_count": 13,
   "metadata": {},
   "outputs": [
    {
     "name": "stdout",
     "output_type": "stream",
     "text": [
      "Keep up good work: sarath\n",
      "All the best: sarath\n",
      "Keep up good work: ayan\n",
      "All the best: ayan\n",
      "Keep up good work: raj\n",
      "All the best: raj\n",
      "Keep up good work: suresh\n",
      "All the best: suresh\n",
      "Keep up good work: renjith\n",
      "All the best: renjith\n"
     ]
    }
   ],
   "source": [
    "for a in students:\n",
    "  print(f\"Keep up good work: {a}\")\n",
    "  print(f\"All the best: {a}\")"
   ]
  },
  {
   "cell_type": "code",
   "execution_count": null,
   "metadata": {},
   "outputs": [],
   "source": []
  },
  {
   "cell_type": "code",
   "execution_count": 28,
   "metadata": {},
   "outputs": [
    {
     "name": "stdout",
     "output_type": "stream",
     "text": [
      "Keep up good work: sarath\n",
      "All the best: sarath\n",
      "\n",
      "Keep up good work: ayan\n",
      "All the best: ayan\n",
      "\n",
      "Keep up good work: raj\n",
      "All the best: raj\n",
      "\n",
      "Keep up good work: suresh\n",
      "All the best: suresh\n",
      "\n",
      "Keep up good work: renjith\n",
      "All the best: renjith\n",
      "\n",
      "The end of session\n"
     ]
    }
   ],
   "source": [
    "for a in students:\n",
    "  print(f\"Keep up good work: {a}\")\n",
    "  print(f\"All the best: {a}\\n\")\n",
    "print(\"The end of session\")    --- Outside loop"
   ]
  },
  {
   "cell_type": "code",
   "execution_count": null,
   "metadata": {},
   "outputs": [],
   "source": []
  },
  {
   "cell_type": "code",
   "execution_count": null,
   "metadata": {},
   "outputs": [],
   "source": []
  },
  {
   "cell_type": "code",
   "execution_count": 17,
   "metadata": {},
   "outputs": [
    {
     "name": "stdout",
     "output_type": "stream",
     "text": [
      "Keep up good work: sarath\n",
      "All the best: sarath\n",
      "\n",
      "Keep up good work: ayan\n",
      "All the best: ayan\n",
      "\n",
      "Keep up good work: raj\n",
      "All the best: raj\n",
      "\n",
      "Keep up good work: suresh\n",
      "All the best: suresh\n",
      "\n",
      "Keep up good work: renjith\n",
      "All the best: renjith\n",
      "\n"
     ]
    }
   ],
   "source": [
    "for a in students:\n",
    "  print(f\"Keep up good work: {a}\")\n",
    "  print(f\"All the best: {a}\\n\")"
   ]
  },
  {
   "cell_type": "code",
   "execution_count": null,
   "metadata": {},
   "outputs": [],
   "source": [
    "#organising the lsit datatypes"
   ]
  },
  {
   "cell_type": "code",
   "execution_count": 18,
   "metadata": {},
   "outputs": [],
   "source": [
    "cars=['Maruthi','Hundai','Honda','BMW','Audi','Toyota','Mahindra']"
   ]
  },
  {
   "cell_type": "code",
   "execution_count": 19,
   "metadata": {},
   "outputs": [
    {
     "name": "stdout",
     "output_type": "stream",
     "text": [
      "['Maruthi', 'Hundai', 'Honda', 'BMW', 'Audi', 'Toyota', 'Mahindra']\n"
     ]
    }
   ],
   "source": [
    "print(cars)"
   ]
  },
  {
   "cell_type": "code",
   "execution_count": null,
   "metadata": {},
   "outputs": [],
   "source": [
    "#Temporary Approach -->The changes are temporarily "
   ]
  },
  {
   "cell_type": "code",
   "execution_count": 20,
   "metadata": {},
   "outputs": [
    {
     "name": "stdout",
     "output_type": "stream",
     "text": [
      "['Audi', 'BMW', 'Honda', 'Hundai', 'Mahindra', 'Maruthi', 'Toyota']\n"
     ]
    }
   ],
   "source": [
    "print(sorted(cars))"
   ]
  },
  {
   "cell_type": "code",
   "execution_count": null,
   "metadata": {},
   "outputs": [],
   "source": [
    "#Permenant Approach -->The changes are permenant"
   ]
  },
  {
   "cell_type": "code",
   "execution_count": null,
   "metadata": {},
   "outputs": [],
   "source": [
    "#orginal list"
   ]
  },
  {
   "cell_type": "code",
   "execution_count": 21,
   "metadata": {},
   "outputs": [
    {
     "name": "stdout",
     "output_type": "stream",
     "text": [
      "['Maruthi', 'Hundai', 'Honda', 'BMW', 'Audi', 'Toyota', 'Mahindra']\n"
     ]
    }
   ],
   "source": [
    "print(cars)"
   ]
  },
  {
   "cell_type": "code",
   "execution_count": 24,
   "metadata": {},
   "outputs": [],
   "source": [
    "cars.sort()"
   ]
  },
  {
   "cell_type": "code",
   "execution_count": 25,
   "metadata": {},
   "outputs": [
    {
     "name": "stdout",
     "output_type": "stream",
     "text": [
      "['Audi', 'BMW', 'Honda', 'Hundai', 'Mahindra', 'Maruthi', 'Toyota']\n"
     ]
    }
   ],
   "source": [
    "print(cars)"
   ]
  },
  {
   "cell_type": "code",
   "execution_count": null,
   "metadata": {},
   "outputs": [],
   "source": []
  }
 ],
 "metadata": {
  "kernelspec": {
   "display_name": "Python 3",
   "language": "python",
   "name": "python3"
  },
  "language_info": {
   "codemirror_mode": {
    "name": "ipython",
    "version": 3
   },
   "file_extension": ".py",
   "mimetype": "text/x-python",
   "name": "python",
   "nbconvert_exporter": "python",
   "pygments_lexer": "ipython3",
   "version": "3.8.3"
  }
 },
 "nbformat": 4,
 "nbformat_minor": 4
}
