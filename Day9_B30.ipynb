{
 "cells": [
  {
   "cell_type": "code",
   "execution_count": null,
   "metadata": {},
   "outputs": [],
   "source": [
    "#Dictionaries -- Continuation"
   ]
  },
  {
   "cell_type": "code",
   "execution_count": null,
   "metadata": {},
   "outputs": [],
   "source": [
    "#loop "
   ]
  },
  {
   "cell_type": "code",
   "execution_count": 2,
   "metadata": {},
   "outputs": [],
   "source": [
    "Employee = {'Name':'Sarath','Place':'kerala','pin':689622,'salary':5000,'company':'ABC'}\n"
   ]
  },
  {
   "cell_type": "code",
   "execution_count": 3,
   "metadata": {},
   "outputs": [
    {
     "name": "stdout",
     "output_type": "stream",
     "text": [
      "{'Name': 'Sarath', 'Place': 'kerala', 'pin': 689622, 'salary': 5000, 'company': 'ABC'}\n"
     ]
    }
   ],
   "source": [
    "print(Employee)"
   ]
  },
  {
   "cell_type": "code",
   "execution_count": 4,
   "metadata": {},
   "outputs": [
    {
     "data": {
      "text/plain": [
       "dict"
      ]
     },
     "execution_count": 4,
     "metadata": {},
     "output_type": "execute_result"
    }
   ],
   "source": [
    "type(Employee)"
   ]
  },
  {
   "cell_type": "code",
   "execution_count": 5,
   "metadata": {},
   "outputs": [
    {
     "name": "stdout",
     "output_type": "stream",
     "text": [
      "Name\n",
      "Sarath\n",
      "Place\n",
      "kerala\n",
      "pin\n",
      "689622\n",
      "salary\n",
      "5000\n",
      "company\n",
      "ABC\n"
     ]
    }
   ],
   "source": [
    "for key,value in Employee.items():\n",
    "    print (key)\n",
    "    print (value)"
   ]
  },
  {
   "cell_type": "code",
   "execution_count": 6,
   "metadata": {},
   "outputs": [
    {
     "name": "stdout",
     "output_type": "stream",
     "text": [
      "{'Name': 'Sarath', 'Place': 'kerala', 'pin': 689622, 'salary': 5000, 'company': 'ABC'}\n"
     ]
    }
   ],
   "source": [
    "print(Employee)"
   ]
  },
  {
   "cell_type": "code",
   "execution_count": 11,
   "metadata": {},
   "outputs": [
    {
     "name": "stdout",
     "output_type": "stream",
     "text": [
      "The value of key=Name\n",
      "The value of value=Sarath\n",
      "The value of key=Place\n",
      "The value of value=kerala\n",
      "The value of key=pin\n",
      "The value of value=689622\n",
      "The value of key=salary\n",
      "The value of value=5000\n",
      "The value of key=company\n",
      "The value of value=ABC\n"
     ]
    }
   ],
   "source": [
    "for key,value in Employee.items():\n",
    "    print (f\"The value of key={key}\")\n",
    "    print (f\"The value of value={value}\")"
   ]
  },
  {
   "cell_type": "code",
   "execution_count": 12,
   "metadata": {},
   "outputs": [
    {
     "name": "stdout",
     "output_type": "stream",
     "text": [
      "The value of key=Name\n",
      "The value of value=Sarath\n",
      "\n",
      "The value of key=Place\n",
      "The value of value=kerala\n",
      "\n",
      "The value of key=pin\n",
      "The value of value=689622\n",
      "\n",
      "The value of key=salary\n",
      "The value of value=5000\n",
      "\n",
      "The value of key=company\n",
      "The value of value=ABC\n",
      "\n"
     ]
    }
   ],
   "source": [
    "for key,value in Employee.items():\n",
    "    print (f\"The value of key={key}\")\n",
    "    print (f\"The value of value={value}\\n\")"
   ]
  },
  {
   "cell_type": "code",
   "execution_count": 13,
   "metadata": {},
   "outputs": [
    {
     "name": "stdout",
     "output_type": "stream",
     "text": [
      "The value of key=('Name', 'Sarath')\n",
      "The value of key=('Place', 'kerala')\n",
      "The value of key=('pin', 689622)\n",
      "The value of key=('salary', 5000)\n",
      "The value of key=('company', 'ABC')\n"
     ]
    }
   ],
   "source": [
    "for key in Employee.items():\n",
    "    print (f\"The value of key={key}\")\n",
    " "
   ]
  },
  {
   "cell_type": "code",
   "execution_count": 15,
   "metadata": {},
   "outputs": [
    {
     "name": "stdout",
     "output_type": "stream",
     "text": [
      "{'Name': 'Sarath', 'Place': 'kerala', 'pin': 689622, 'salary': 5000, 'company': 'ABC'}\n"
     ]
    }
   ],
   "source": [
    "print(Employee)"
   ]
  },
  {
   "cell_type": "code",
   "execution_count": 16,
   "metadata": {},
   "outputs": [
    {
     "name": "stdout",
     "output_type": "stream",
     "text": [
      "The value of key=Name\n",
      "The value of key=Place\n",
      "The value of key=pin\n",
      "The value of key=salary\n",
      "The value of key=company\n"
     ]
    }
   ],
   "source": [
    "for key in Employee.keys():\n",
    "    print (f\"The value of key={key}\")"
   ]
  },
  {
   "cell_type": "code",
   "execution_count": 18,
   "metadata": {},
   "outputs": [
    {
     "name": "stdout",
     "output_type": "stream",
     "text": [
      "The value of key=Sarath\n",
      "The value of key=kerala\n",
      "The value of key=689622\n",
      "The value of key=5000\n",
      "The value of key=ABC\n"
     ]
    }
   ],
   "source": [
    "for a in Employee.values():\n",
    "    print (f\"The value of key={a}\")"
   ]
  },
  {
   "cell_type": "code",
   "execution_count": 19,
   "metadata": {},
   "outputs": [
    {
     "name": "stdout",
     "output_type": "stream",
     "text": [
      "Name\n",
      "Sarath\n",
      "Place\n",
      "kerala\n",
      "pin\n",
      "689622\n",
      "salary\n",
      "5000\n",
      "company\n",
      "ABC\n"
     ]
    }
   ],
   "source": [
    "for a,b in Employee.items():\n",
    "    print (a)\n",
    "    print (b)"
   ]
  },
  {
   "cell_type": "code",
   "execution_count": 20,
   "metadata": {},
   "outputs": [
    {
     "name": "stdout",
     "output_type": "stream",
     "text": [
      "Name\n",
      "Place\n",
      "pin\n",
      "salary\n",
      "company\n"
     ]
    }
   ],
   "source": [
    "for a,b in Employee.items():\n",
    "    print (a)\n",
    " "
   ]
  },
  {
   "cell_type": "code",
   "execution_count": 21,
   "metadata": {},
   "outputs": [
    {
     "name": "stdout",
     "output_type": "stream",
     "text": [
      "{'Name': 'Sarath', 'Place': 'kerala', 'pin': 689622, 'salary': 5000, 'company': 'ABC'}\n"
     ]
    }
   ],
   "source": [
    "\n",
    "    print (Employee)"
   ]
  },
  {
   "cell_type": "code",
   "execution_count": 25,
   "metadata": {},
   "outputs": [
    {
     "name": "stdout",
     "output_type": "stream",
     "text": [
      "Name\n",
      "\n",
      "Sarath\n",
      "Place\n",
      "\n",
      "kerala\n",
      "pin\n",
      "\n",
      "689622\n",
      "salary\n",
      "\n",
      "5000\n",
      "company\n",
      "\n",
      "ABC\n"
     ]
    }
   ],
   "source": [
    "for a,b in Employee.items():\n",
    "    print (f\"{a}\\n\")\n",
    "    print (b)"
   ]
  },
  {
   "cell_type": "code",
   "execution_count": null,
   "metadata": {},
   "outputs": [],
   "source": []
  }
 ],
 "metadata": {
  "kernelspec": {
   "display_name": "Python 3",
   "language": "python",
   "name": "python3"
  },
  "language_info": {
   "codemirror_mode": {
    "name": "ipython",
    "version": 3
   },
   "file_extension": ".py",
   "mimetype": "text/x-python",
   "name": "python",
   "nbconvert_exporter": "python",
   "pygments_lexer": "ipython3",
   "version": "3.8.3"
  }
 },
 "nbformat": 4,
 "nbformat_minor": 4
}
